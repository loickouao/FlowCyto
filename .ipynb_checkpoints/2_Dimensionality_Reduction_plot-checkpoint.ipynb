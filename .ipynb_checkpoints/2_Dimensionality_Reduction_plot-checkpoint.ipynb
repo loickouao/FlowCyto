{
 "cells": [
  {
   "cell_type": "code",
   "execution_count": 20,
   "metadata": {},
   "outputs": [
    {
     "name": "stdout",
     "output_type": "stream",
     "text": [
      "#We can also color this plot according to the expression values of a certain marker of interest:\n"
     ]
    },
    {
     "name": "stderr",
     "output_type": "stream",
     "text": [
      "/home/loickouao/.local/lib/python3.6/site-packages/plotnine/ggplot.py:729: PlotnineWarning: Saving 6.4 x 4.8 in image.\n",
      "  from_inches(height, units), units), PlotnineWarning)\n",
      "/home/loickouao/.local/lib/python3.6/site-packages/plotnine/ggplot.py:730: PlotnineWarning: Filename: Resultats/2_Dimensionality_Reduction/scatter_plot_with_plotnine.png\n",
      "  warn('Filename: {}'.format(filename), PlotnineWarning)\n",
      "/home/loickouao/.local/lib/python3.6/site-packages/plotnine/ggplot.py:729: PlotnineWarning: Saving 6.4 x 4.8 in image.\n",
      "  from_inches(height, units), units), PlotnineWarning)\n",
      "/home/loickouao/.local/lib/python3.6/site-packages/plotnine/ggplot.py:730: PlotnineWarning: Filename: Resultats/2_Dimensionality_Reduction/test.png\n",
      "  warn('Filename: {}'.format(filename), PlotnineWarning)\n"
     ]
    },
    {
     "name": "stdout",
     "output_type": "stream",
     "text": [
      "#Run tSNE on the same subsample of cells, but this time using only the CD3, CD11c and CD19 channels.\n"
     ]
    },
    {
     "name": "stderr",
     "output_type": "stream",
     "text": [
      "/home/loickouao/.local/lib/python3.6/site-packages/plotnine/ggplot.py:729: PlotnineWarning: Saving 6.4 x 4.8 in image.\n",
      "  from_inches(height, units), units), PlotnineWarning)\n",
      "/home/loickouao/.local/lib/python3.6/site-packages/plotnine/ggplot.py:730: PlotnineWarning: Filename: Resultats/2_Dimensionality_Reduction/scatter_plot_with_plotnine2.png\n",
      "  warn('Filename: {}'.format(filename), PlotnineWarning)\n"
     ]
    }
   ],
   "source": [
    "import pandas as pd\n",
    "import numpy as np\n",
    "from pandas.api.types import CategoricalDtype\n",
    "from plotnine import *\n",
    "from plotnine.data import mpg\n",
    "%matplotlib inline\n",
    "\n",
    "df_subsampleEmb = pd.read_csv('Resultats/2_Dimensionality_Reduction/2_result1_Dimension_Reduction.csv')  \n",
    "\n",
    "df_subsampleEmb2 = pd.read_csv('Resultats/2_Dimensionality_Reduction/2_result2_Dimension_Reduction.csv')  \n",
    "\n",
    "print(\"#We can also color this plot according to the expression values of a certain marker of interest:\")\n",
    "\n",
    "p1 = (ggplot(df_subsampleEmb)               # defining what data to use\n",
    "+ aes(x='tsne1', y='tsne2', color='CD19') # defining what variable to use\n",
    "+ geom_point()                         # defining the type of plot to use\n",
    "+ theme_minimal()                      # defining a theme (optional)\n",
    "+ labs(title='tsne 1000 cells data of channels of_interest', x='Tsne1', y='Tsne2')\n",
    ")\n",
    "ggsave(plot=p1, filename='Resultats/2_Dimensionality_Reduction/scatter_plot_with_plotnine.png', dpi=100)\n",
    "\n",
    "p1\n",
    "\n",
    "print(\"#Run tSNE on the same subsample of cells, but this time using only the CD3, CD11c and CD19 channels.\")\n",
    "\n",
    "p2 = (ggplot(df_subsampleEmb2)              \n",
    "+ aes(x='tsne1', y='tsne2', color='CD19')\n",
    "+ geom_point()                        \n",
    "+ theme_minimal()                    \n",
    "+ labs(title='tsne 1000 cells data of 3 channels ', x='Tsne1', y='Tsne2')\n",
    ")\n",
    "\n",
    "ggsave(plot=p2, filename='Resultats/2_Dimensionality_Reduction/scatter_plot_with_plotnine2.png', dpi=100)\n",
    "p2\n",
    "\n",
    "\n"
   ]
  },
  {
   "cell_type": "code",
   "execution_count": null,
   "metadata": {},
   "outputs": [],
   "source": []
  }
 ],
 "metadata": {
  "kernelspec": {
   "display_name": "Python 3",
   "language": "python",
   "name": "python3"
  },
  "language_info": {
   "codemirror_mode": {
    "name": "ipython",
    "version": 3
   },
   "file_extension": ".py",
   "mimetype": "text/x-python",
   "name": "python",
   "nbconvert_exporter": "python",
   "pygments_lexer": "ipython3",
   "version": "3.6.9"
  }
 },
 "nbformat": 4,
 "nbformat_minor": 4
}
